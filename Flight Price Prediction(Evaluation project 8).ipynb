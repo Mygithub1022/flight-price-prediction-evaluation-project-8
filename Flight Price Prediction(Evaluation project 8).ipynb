{
 "cells": [
  {
   "cell_type": "code",
   "execution_count": 3,
   "metadata": {},
   "outputs": [],
   "source": [
    "import pandas as pd\n",
    "import numpy as np\n",
    "import matplotlib.pyplot as plt \n",
    "import seaborn as sns\n",
    "color = sns.color_palette()\n",
    "sns.set_style('darkgrid')\n",
    "from scipy import stats\n",
    "from scipy.stats import  norm, skew\n",
    "from sklearn.linear_model import LinearRegression\n",
    "from sklearn.model_selection import KFold, cross_val_score\n",
    "from sklearn.model_selection import cross_val_predict\n",
    "from sklearn.preprocessing import RobustScaler\n",
    "from sklearn.pipeline import make_pipeline"
   ]
  },
  {
   "cell_type": "code",
   "execution_count": null,
   "metadata": {},
   "outputs": [],
   "source": [
    "#loading data into variables\n",
    "big_df = pd.read_csv('https://raw.githubusercontent.com/dsrscientist/Data-Science-ML-Capstone-Projects/flight=price=prediction.csv)\n",
    "big_df.head()"
   ]
  },
  {
   "cell_type": "code",
   "execution_count": null,
   "metadata": {},
   "outputs": [],
   "source": [
    "big_df.dtypes"
   ]
  },
  {
   "cell_type": "markdown",
   "metadata": {},
   "source": [
    "Import train and test data sets and append them"
   ]
  },
  {
   "cell_type": "code",
   "execution_count": null,
   "metadata": {},
   "outputs": [],
   "source": [
    "train_df = pd.read_excel('Data_Train.xlsx')\n",
    "test_df = pd.read_excel('Test_set.xlsx')"
   ]
  },
  {
   "cell_type": "code",
   "execution_count": null,
   "metadata": {},
   "outputs": [],
   "source": [
    "big_df = train_df.append(test_df)"
   ]
  },
  {
   "cell_type": "markdown",
   "metadata": {},
   "source": [
    "Feature generation"
   ]
  },
  {
   "cell_type": "markdown",
   "metadata": {},
   "source": [
    "Date_of_journey"
   ]
  },
  {
   "cell_type": "code",
   "execution_count": null,
   "metadata": {},
   "outputs": [],
   "source": [
    "big_df['Date'] = big_df['Date_of_Journey'].str.split('/').str[0]\n",
    "big_df['Month'] = big_df['Date_of_Journey'].str.split('/').str[1]\n",
    "big_df['Year'] = big_df['Date_of_Journey'].str.split('/').str[2]"
   ]
  },
  {
   "cell_type": "markdown",
   "metadata": {},
   "source": [
    "Arrival_Time"
   ]
  },
  {
   "cell_type": "code",
   "execution_count": null,
   "metadata": {},
   "outputs": [],
   "source": [
    "big_df['Arrival_Time'] = big_df['Arrival_Time'].str.split('').str[0]"
   ]
  },
  {
   "cell_type": "code",
   "execution_count": null,
   "metadata": {},
   "outputs": [],
   "source": [
    "big_df['Arrival_Hour'] = big_df['Arrival_Time'].str.split('').str[0]\n",
    "big_df['Arrival_Minute'] = big_df['Arrival_Time'].str.split('').str[1]\n",
    "\n",
    "big_df['Arrival_Hour'] = big_df['Arrival_Hour'].astype(int)\n",
    "big_df['Arrival_Minute'] = big_df['Arrival_Minute'].astype(int)"
   ]
  },
  {
   "cell_type": "markdown",
   "metadata": {},
   "source": [
    "Total_stops"
   ]
  },
  {
   "cell_type": "code",
   "execution_count": null,
   "metadata": {},
   "outputs": [],
   "source": [
    "big_df = ['Total_stops'] = big_df['Total_stops'].replace('non-stop', '0 stop')"
   ]
  },
  {
   "cell_type": "code",
   "execution_count": null,
   "metadata": {},
   "outputs": [],
   "source": [
    "big_df['stop'] = big_df['Total_stops'].str.split('').str[0]"
   ]
  },
  {
   "cell_type": "code",
   "execution_count": null,
   "metadata": {},
   "outputs": [],
   "source": [
    "big_df['stop'] = big_df['stop'].astype(int)"
   ]
  },
  {
   "cell_type": "markdown",
   "metadata": {},
   "source": [
    "Dep_Time"
   ]
  },
  {
   "cell_type": "code",
   "execution_count": null,
   "metadata": {},
   "outputs": [],
   "source": [
    "big_df['Dep_Hour'] = big_df['Dep_Time'].str.split(':').str[0]\n",
    "big_df['Dep_Minute'] = big_df['Dep_Time'].str.split(':').str[1]\n",
    "big_df['Dep_Hour'] = big_df['Dep_Hour'].astype(int)\n",
    "big_df['Dep_Minute'] = big_df['Dep_Minute'].astype(int)\n",
    "big_df = big_df.drop(['Dep_Time'], axis=1)"
   ]
  },
  {
   "cell_type": "markdown",
   "metadata": {},
   "source": [
    "Route"
   ]
  },
  {
   "cell_type": "code",
   "execution_count": null,
   "metadata": {},
   "outputs": [],
   "source": [
    "big_df['Route_1'] = big_df['Route'] .str,split('->').str[0]\n",
    "big_df['Route_2'] = big_df['Route'] .str,split('->').str[1]\n",
    "big_df['Route_3'] = big_df['Route'] .str,split('->').str[2]\n",
    "big_df['Route_4'] = big_df['Route'] .str,split('->').str[3]\n",
    "big_df['Route_5'] = big_df['Route'] .str,split('->').str[4]"
   ]
  },
  {
   "cell_type": "code",
   "execution_count": null,
   "metadata": {},
   "outputs": [],
   "source": [
    "big_df['Route_1'].fillna(\"None\",inplace = True)\n",
    "big_df['Route_2'].fillna(\"None\",inplace = True)\n",
    "big_df['Route_3'].fillna(\"None\",inplace = True)\n",
    "big_df['Route_4'].fillna(\"None\",inplace = True)\n",
    "big_df['Route_5'].fillna(\"None\",inplace = True)"
   ]
  },
  {
   "cell_type": "markdown",
   "metadata": {},
   "source": [
    "Divide the data set into test and train"
   ]
  },
  {
   "cell_type": "code",
   "execution_count": null,
   "metadata": {},
   "outputs": [],
   "source": [
    "df_train = big_df[0:10683]\n",
    "df_test = big_df[10683:]\n",
    "df_test = df_test.drop(['Price'], axis=1)"
   ]
  },
  {
   "cell_type": "code",
   "execution_count": null,
   "metadata": {},
   "outputs": [],
   "source": [
    "x = df_train.drop(['Price'], axis=1)\n",
    "y = df_train.price"
   ]
  },
  {
   "cell_type": "markdown",
   "metadata": {},
   "source": [
    "Build Model:\n",
    "\n",
    "Linear Regression"
   ]
  },
  {
   "cell_type": "code",
   "execution_count": null,
   "metadata": {},
   "outputs": [],
   "source": [
    "ln = LinearRegression()"
   ]
  },
  {
   "cell_type": "code",
   "execution_count": null,
   "metadata": {},
   "outputs": [],
   "source": [
    "#build our cross validation method\n",
    "kfolds = kfold(n_spilts=50,shuffle=True,random_state=100)"
   ]
  },
  {
   "cell_type": "code",
   "execution_count": null,
   "metadata": {},
   "outputs": [],
   "source": [
    "def cv_rmse(model):\n",
    "    rmse = np.sqrt(-cross_val_score(model, x, y,\n",
    "                                   scoring=\"neg_mean_squared_error\",\n",
    "                                   cv = kfolds))\n",
    "    return(rmse)"
   ]
  },
  {
   "cell_type": "code",
   "execution_count": null,
   "metadata": {},
   "outputs": [],
   "source": [
    "benchmark_model = make_pipeline(RobustScaler(),\n",
    "                               ln).fit(x=x_train, y=y_train)\n",
    "cv_rmse(benchmark_model).mean()"
   ]
  },
  {
   "cell_type": "markdown",
   "metadata": {},
   "source": [
    "Ridge Regression"
   ]
  },
  {
   "cell_type": "code",
   "execution_count": null,
   "metadata": {},
   "outputs": [],
   "source": [
    "from sklearn.linear_model import RidgeCV\n",
    "\n",
    "def ridge_selector(k):\n",
    "    ridge_model = make_pipeline(RobustScaler(),\n",
    "                               RidgeCV(alphas = [k],\n",
    "                                      cv=kfolds)).fit(x_train,y_train)\n",
    "    ridge_rmse = cv_rmse(ridge_model).mean()\n",
    "    return(ridge_rmse)"
   ]
  },
  {
   "cell_type": "code",
   "execution_count": null,
   "metadata": {},
   "outputs": [],
   "source": [
    "plt.plot(r_alphas, ridge_scores, label='Ridge')\n",
    "plt.legend('center')\n",
    "plt.xlabel('alpha')\n",
    "plt.ylabel('score')\n",
    "\n",
    "ridge_score_table = pd.dataframe(ridge_scores, r_alphas, columns=['RMSE'])\n",
    "ridge_score_table"
   ]
  },
  {
   "cell_type": "code",
   "execution_count": null,
   "metadata": {},
   "outputs": [],
   "source": [
    "cv_rmse(ridge_model12).mean()"
   ]
  },
  {
   "cell_type": "markdown",
   "metadata": {},
   "source": [
    "Lasso Regression"
   ]
  },
  {
   "cell_type": "code",
   "execution_count": null,
   "metadata": {},
   "outputs": [],
   "source": [
    "lasso_model2 = make_pipeline(RobustScaler(),\n",
    "                            LassoCV(max_iter=1e7,\n",
    "                                   alphas = alphas2,\n",
    "                                   random_state = 42)).fit(x_train, y_train)"
   ]
  },
  {
   "cell_type": "markdown",
   "metadata": {},
   "source": [
    "Elastic Net Regularization:"
   ]
  },
  {
   "cell_type": "code",
   "execution_count": null,
   "metadata": {},
   "outputs": [],
   "source": [
    "xgb_fit = xgb3.fit(x_train, y_train)"
   ]
  },
  {
   "cell_type": "markdown",
   "metadata": {},
   "source": [
    "Light GBM:"
   ]
  },
  {
   "cell_type": "code",
   "execution_count": null,
   "metadata": {},
   "outputs": [],
   "source": [
    "from lightgbm import LGBMRegressor\n",
    "\n",
    "lgbm_fit = lgbm_model.fit(x_train,y_train)"
   ]
  },
  {
   "cell_type": "code",
   "execution_count": null,
   "metadata": {},
   "outputs": [],
   "source": [
    "em_preds=elastic_model3.predict(x_test)\n",
    "lasso_preds=lasso_model2.predict(x_test)\n",
    "ridge_preds=ridge_model2.predict(x_test)\n",
    "stack_gen_preds=stack_gen_model.predict(x_test)\n",
    "lgbm_preds=lgbm.fit.predict(x_test)"
   ]
  }
 ],
 "metadata": {
  "kernelspec": {
   "display_name": "Python 3",
   "language": "python",
   "name": "python3"
  },
  "language_info": {
   "codemirror_mode": {
    "name": "ipython",
    "version": 3
   },
   "file_extension": ".py",
   "mimetype": "text/x-python",
   "name": "python",
   "nbconvert_exporter": "python",
   "pygments_lexer": "ipython3",
   "version": "3.8.5"
  }
 },
 "nbformat": 4,
 "nbformat_minor": 4
}
